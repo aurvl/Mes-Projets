{
 "cells": [
  {
   "cell_type": "markdown",
   "metadata": {},
   "source": [
    "# **METHODE DE NOTATION POUR LE TRade & ENvironment Database (TREND)**"
   ]
  },
  {
   "cell_type": "code",
   "execution_count": 163,
   "metadata": {},
   "outputs": [],
   "source": [
    "# Import des packages\n",
    "import pandas as pd\n",
    "import numpy as np\n",
    "import seaborn as sns\n",
    "import matplotlib.lines as mlines\n",
    "import matplotlib.transforms as mtransforms\n",
    "import matplotlib.pyplot as plt\n",
    "%matplotlib inline"
   ]
  },
  {
   "cell_type": "markdown",
   "metadata": {},
   "source": [
    "# Dataframe"
   ]
  },
  {
   "cell_type": "code",
   "execution_count": null,
   "metadata": {},
   "outputs": [],
   "source": [
    "df = pd.read_csv('source/trend2022.csv', header=0, sep=';', encoding='latin-1')\n",
    "df"
   ]
  },
  {
   "cell_type": "code",
   "execution_count": null,
   "metadata": {},
   "outputs": [],
   "source": [
    "for numero, nom_colonne in enumerate(df.columns):\n",
    "    print(numero,\":\", nom_colonne)"
   ]
  },
  {
   "cell_type": "code",
   "execution_count": null,
   "metadata": {},
   "outputs": [],
   "source": [
    "trend = df.drop(df.columns[1:21], axis = 1)\n",
    "trend"
   ]
  },
  {
   "cell_type": "markdown",
   "metadata": {},
   "source": [
    "# Introduction de nouveaux individus"
   ]
  },
  {
   "cell_type": "code",
   "execution_count": 167,
   "metadata": {},
   "outputs": [],
   "source": [
    "new_individual = pd.DataFrame([1] * trend.shape[1], index=trend.columns).T\n",
    "\n",
    "# Ajout de cette ligne à la fin du DataFrame\n",
    "trend = pd.concat([trend, new_individual], ignore_index=True)"
   ]
  },
  {
   "cell_type": "code",
   "execution_count": 168,
   "metadata": {},
   "outputs": [],
   "source": [
    "new_individual = pd.DataFrame([0] * trend.shape[1], index=trend.columns).T\n",
    "\n",
    "# Ajouter cette ligne à la fin du DataFrame\n",
    "trend = pd.concat([trend, new_individual], ignore_index=True)"
   ]
  },
  {
   "cell_type": "code",
   "execution_count": null,
   "metadata": {},
   "outputs": [],
   "source": [
    "trend"
   ]
  },
  {
   "cell_type": "code",
   "execution_count": null,
   "metadata": {},
   "outputs": [],
   "source": [
    "trend.dtypes"
   ]
  },
  {
   "cell_type": "code",
   "execution_count": null,
   "metadata": {},
   "outputs": [],
   "source": [
    "trend.isna().sum()"
   ]
  },
  {
   "cell_type": "code",
   "execution_count": null,
   "metadata": {},
   "outputs": [],
   "source": [
    "trend.describe()"
   ]
  },
  {
   "cell_type": "code",
   "execution_count": null,
   "metadata": {},
   "outputs": [],
   "source": [
    "summary = trend.describe()\n",
    "\n",
    "var = summary.loc['mean'][summary.loc['mean'] > 0.4]\n",
    "\n",
    "print(\"Variables avec une moyenne supérieure à 0.4 :\")\n",
    "for variable, mean in var.items():\n",
    "    print(f\"{variable}: {mean}\")"
   ]
  },
  {
   "cell_type": "markdown",
   "metadata": {},
   "source": [
    "# Score"
   ]
  },
  {
   "cell_type": "markdown",
   "metadata": {},
   "source": [
    "## Score sur la Moyenne des domaines"
   ]
  },
  {
   "cell_type": "code",
   "execution_count": null,
   "metadata": {},
   "outputs": [],
   "source": [
    "prefixes = [f'X{i}' for i in range(1, 16)]\n",
    "new_df = pd.DataFrame()\n",
    "\n",
    "# Pour chaque préfixe, la somme des colonnes correspondantes est:\n",
    "for prefix in prefixes:\n",
    "    cols_to_sum = [col for col in df.columns if col.startswith(prefix)]\n",
    "    new_df[prefix] = trend[cols_to_sum].sum(axis=1)\n",
    "\n",
    "new_df"
   ]
  },
  {
   "cell_type": "code",
   "execution_count": null,
   "metadata": {},
   "outputs": [],
   "source": [
    "new_df.describe()"
   ]
  },
  {
   "cell_type": "code",
   "execution_count": 176,
   "metadata": {},
   "outputs": [],
   "source": [
    "for prefix in prefixes:\n",
    "    bad = new_df[prefix].min()\n",
    "    good = new_df[prefix].max()\n",
    "    new_df[f'{prefix}m'] = ((new_df[prefix] - bad) / (good - bad)) * (10 - 1) + 1"
   ]
  },
  {
   "cell_type": "code",
   "execution_count": 177,
   "metadata": {},
   "outputs": [],
   "source": [
    "n_col = [f'{prefix}m' for prefix in prefixes]\n",
    "new_df['note'] = np.sqrt(np.mean(np.square(new_df[n_col]), axis=1))\n",
    "new_df['note'] = round(new_df['note'])\n",
    "new_df['note'] = new_df['note'].astype(int)"
   ]
  },
  {
   "cell_type": "code",
   "execution_count": null,
   "metadata": {},
   "outputs": [],
   "source": [
    "new_df"
   ]
  },
  {
   "cell_type": "code",
   "execution_count": null,
   "metadata": {},
   "outputs": [],
   "source": [
    "ndf = pd.concat([trend['Trade.Agreement'], new_df['note']], axis = 1)\n",
    "ndf = ndf.iloc[:-2]\n",
    "ndf"
   ]
  },
  {
   "cell_type": "code",
   "execution_count": null,
   "metadata": {},
   "outputs": [],
   "source": [
    "import matplotlib.pyplot as plt\n",
    "\n",
    "# Histogramme pour visualiser la distribution\n",
    "plt.hist(ndf['note'], bins=20, color='blue', edgecolor='black')\n",
    "\n",
    "# Labels et un titre\n",
    "plt.xlabel('IAE')\n",
    "plt.ylabel('Effectif')\n",
    "plt.title('IAE')\n",
    "\n",
    "plt.show()"
   ]
  },
  {
   "cell_type": "code",
   "execution_count": null,
   "metadata": {},
   "outputs": [],
   "source": [
    "# Table de distribution de la variable note\n",
    "distribution_table = ndf['note'].value_counts().sort_index().reset_index()\n",
    "distribution_table.columns = ['Valeur', 'Fréquence']\n",
    "\n",
    "print(distribution_table)"
   ]
  },
  {
   "cell_type": "markdown",
   "metadata": {},
   "source": [
    "# Data extraction"
   ]
  },
  {
   "cell_type": "markdown",
   "metadata": {},
   "source": [
    "## Data par Accord de commerce"
   ]
  },
  {
   "cell_type": "code",
   "execution_count": 182,
   "metadata": {},
   "outputs": [],
   "source": [
    "trend['Total'] = trend.iloc[:, 1:].sum(axis=1)"
   ]
  },
  {
   "cell_type": "code",
   "execution_count": null,
   "metadata": {},
   "outputs": [],
   "source": [
    "df_slice = df.iloc[:, 3:21]\n",
    "df_scores = pd.concat([df['Trade.Agreement'], df_slice, trend['Total'], ndf['note']], axis=1)\n",
    "df_scores.rename(columns={'Total': 'Nombre de normes'}, inplace=True)\n",
    "df_scores.rename(columns={'note': 'IAE'}, inplace=True)\n",
    "df_scores"
   ]
  },
  {
   "cell_type": "code",
   "execution_count": null,
   "metadata": {},
   "outputs": [],
   "source": [
    "dx = pd.read_csv('source/infos_accords.csv')\n",
    "dx = dx.drop(columns=['depth_index', 'mar_typedepth'])\n",
    "df_scores = pd.merge(df_scores, dx, on = ['Trade.Agreement'], how = 'left')\n",
    "df_scores.head(10)"
   ]
  },
  {
   "cell_type": "code",
   "execution_count": null,
   "metadata": {},
   "outputs": [],
   "source": [
    "df_scores.to_csv(\"results/df_score.csv\", index=False)\n",
    "print(\"Le fichier csv a été sauvegardé avec succès.\")"
   ]
  },
  {
   "cell_type": "markdown",
   "metadata": {},
   "source": [
    "## Data par pays"
   ]
  },
  {
   "cell_type": "code",
   "execution_count": null,
   "metadata": {},
   "outputs": [],
   "source": [
    "data_pays = pd.read_csv('source/trenddyadic2022.csv', header=0, sep=';', encoding='latin-1')\n",
    "data_pays = data_pays.drop(data_pays.columns[24:322], axis = 1)\n",
    "data_pays"
   ]
  },
  {
   "cell_type": "code",
   "execution_count": null,
   "metadata": {},
   "outputs": [],
   "source": [
    "data_pays = pd.merge(data_pays, df_scores[['Trade.Agreement', 'Nombre de normes', 'IAE']], on='Trade.Agreement', how='left')\n",
    "data_pays"
   ]
  },
  {
   "cell_type": "code",
   "execution_count": 188,
   "metadata": {},
   "outputs": [],
   "source": [
    "df1 = data_pays.drop(columns=['country2'])\n",
    "df2 = data_pays.drop(columns=['country1'])\n"
   ]
  },
  {
   "cell_type": "code",
   "execution_count": 189,
   "metadata": {},
   "outputs": [],
   "source": [
    "df1.rename(columns={'country1': 'country'}, inplace=True)\n",
    "df2.rename(columns={'country2': 'country'}, inplace=True)\n",
    "data_pays = pd.concat([df1, df2], ignore_index=True)"
   ]
  },
  {
   "cell_type": "code",
   "execution_count": null,
   "metadata": {},
   "outputs": [],
   "source": [
    "data_pays = data_pays.drop_duplicates(subset=['Trade.Agreement', 'country'])\n",
    "data_pays"
   ]
  },
  {
   "cell_type": "code",
   "execution_count": null,
   "metadata": {},
   "outputs": [],
   "source": [
    "country = data_pays.copy()\n",
    "country"
   ]
  },
  {
   "cell_type": "code",
   "execution_count": null,
   "metadata": {},
   "outputs": [],
   "source": [
    "country = country.drop(country.columns[0], axis = 1)\n",
    "country = country.drop(country.columns[1:15], axis = 1)\n",
    "country = country.drop(country.columns[2:8], axis = 1)\n",
    "country"
   ]
  },
  {
   "cell_type": "code",
   "execution_count": null,
   "metadata": {},
   "outputs": [],
   "source": [
    "country.to_excel('country_trend.xlsx', sheet_name = 'country score', index = False)\n",
    "print('Well successed !')"
   ]
  },
  {
   "cell_type": "markdown",
   "metadata": {},
   "source": [
    "**Il y a un problème avec les noms des pays. Ils ne sont pas conforme pour notre analyse. A l'aide de Excel** (`VLOOKUP function`) **, ils sont donc corrigés avant utilisation**\n",
    "\n",
    "**!!! Régler le problème des noms de pays avant de continuer en utlisant *'res_pays problems.xlsx'*, pour corriger dans *'country_trend.xlsx'* et en appelant la correction 'C'**"
   ]
  },
  {
   "cell_type": "code",
   "execution_count": null,
   "metadata": {},
   "outputs": [],
   "source": [
    "country = pd.read_excel('source/country_trend2.xlsx', sheet_name='country score')\n",
    "country"
   ]
  },
  {
   "cell_type": "code",
   "execution_count": 195,
   "metadata": {},
   "outputs": [],
   "source": [
    "country['country'] = country['C']\n",
    "country = country.drop(columns='C', axis = 1)\n",
    "country.rename(columns={'Note':'IAE'}, inplace=True)"
   ]
  },
  {
   "cell_type": "code",
   "execution_count": null,
   "metadata": {},
   "outputs": [],
   "source": [
    "country"
   ]
  },
  {
   "cell_type": "code",
   "execution_count": null,
   "metadata": {},
   "outputs": [],
   "source": [
    "moy2 = country.groupby('country')['IAE'].mean().reset_index()\n",
    "moy2 = moy2.rename(columns={'IAE': 'IAE moyen'})\n",
    "moy2"
   ]
  },
  {
   "cell_type": "code",
   "execution_count": null,
   "metadata": {},
   "outputs": [],
   "source": [
    "som = country.groupby('country')['Nombre de normes'].sum().reset_index()\n",
    "som = som.rename(columns={'Nombre de normes': 'Nombre de normes signées'})\n",
    "som['Nombre de normes signées'] = som['Nombre de normes signées'].astype(int)\n",
    "som"
   ]
  },
  {
   "cell_type": "code",
   "execution_count": null,
   "metadata": {},
   "outputs": [],
   "source": [
    "max = country.groupby('country')['Year'].max().reset_index()\n",
    "max = max.rename(columns={'Year': 'YearLastPTASigned'})\n",
    "max"
   ]
  },
  {
   "cell_type": "code",
   "execution_count": null,
   "metadata": {},
   "outputs": [],
   "source": [
    "min = country.groupby('country')['Year'].min().reset_index()\n",
    "min = min.rename(columns={'Year': 'YearFirstPTASigned'})\n",
    "min"
   ]
  },
  {
   "cell_type": "code",
   "execution_count": null,
   "metadata": {},
   "outputs": [],
   "source": [
    "country_trend = pd.concat([min, max['YearLastPTASigned'], som['Nombre de normes signées'], moy2['IAE moyen']], axis=1)\n",
    "country_trend"
   ]
  },
  {
   "cell_type": "code",
   "execution_count": null,
   "metadata": {},
   "outputs": [],
   "source": [
    "country_trend.describe()"
   ]
  },
  {
   "cell_type": "code",
   "execution_count": null,
   "metadata": {},
   "outputs": [],
   "source": [
    "country_trend.to_csv('results/data_pays.csv', index = False)\n",
    "print('Well done !')"
   ]
  }
 ],
 "metadata": {
  "kernelspec": {
   "display_name": "Python 3",
   "language": "python",
   "name": "python3"
  },
  "language_info": {
   "codemirror_mode": {
    "name": "ipython",
    "version": 3
   },
   "file_extension": ".py",
   "mimetype": "text/x-python",
   "name": "python",
   "nbconvert_exporter": "python",
   "pygments_lexer": "ipython3",
   "version": "3.11.9"
  }
 },
 "nbformat": 4,
 "nbformat_minor": 2
}
