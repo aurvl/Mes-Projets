{
 "cells": [
  {
   "cell_type": "markdown",
   "metadata": {},
   "source": [
    "# **SCORING METHODE FOR TREND DATA**"
   ]
  },
  {
   "cell_type": "code",
   "execution_count": null,
   "metadata": {},
   "outputs": [],
   "source": [
    "# Importation du package pandas\n",
    "import pandas as pd\n",
    "import numpy as np\n",
    "import seaborn as sns\n",
    "import matplotlib.lines as mlines\n",
    "import matplotlib.transforms as mtransforms\n",
    "import matplotlib.pyplot as plt\n",
    "%matplotlib inline"
   ]
  },
  {
   "cell_type": "markdown",
   "metadata": {},
   "source": [
    "# Dataframe"
   ]
  },
  {
   "cell_type": "code",
   "execution_count": null,
   "metadata": {},
   "outputs": [],
   "source": [
    "df = pd.read_csv('trend2022.csv', header=0, sep=';', encoding='latin-1')\n",
    "df"
   ]
  },
  {
   "cell_type": "code",
   "execution_count": null,
   "metadata": {},
   "outputs": [],
   "source": [
    "for numero, nom_colonne in enumerate(df.columns):\n",
    "    print(numero,\":\", nom_colonne)"
   ]
  },
  {
   "cell_type": "code",
   "execution_count": null,
   "metadata": {},
   "outputs": [],
   "source": [
    "trend = df.drop(df.columns[1:21], axis = 1)\n",
    "trend"
   ]
  },
  {
   "cell_type": "markdown",
   "metadata": {},
   "source": [
    "# Introduct new indiv"
   ]
  },
  {
   "cell_type": "code",
   "execution_count": null,
   "metadata": {},
   "outputs": [],
   "source": [
    "new_individual = pd.DataFrame([1] * trend.shape[1], index=trend.columns).T\n",
    "\n",
    "# Ajouter cette ligne à la fin du DataFrame\n",
    "trend = pd.concat([trend, new_individual], ignore_index=True)"
   ]
  },
  {
   "cell_type": "code",
   "execution_count": null,
   "metadata": {},
   "outputs": [],
   "source": [
    "new_individual = pd.DataFrame([0] * trend.shape[1], index=trend.columns).T\n",
    "\n",
    "# Ajouter cette ligne à la fin du DataFrame\n",
    "trend = pd.concat([trend, new_individual], ignore_index=True)"
   ]
  },
  {
   "cell_type": "code",
   "execution_count": null,
   "metadata": {},
   "outputs": [],
   "source": [
    "trend"
   ]
  },
  {
   "cell_type": "code",
   "execution_count": null,
   "metadata": {},
   "outputs": [],
   "source": [
    "trend.dtypes"
   ]
  },
  {
   "cell_type": "code",
   "execution_count": null,
   "metadata": {},
   "outputs": [],
   "source": [
    "trend.isna().sum()"
   ]
  },
  {
   "cell_type": "code",
   "execution_count": null,
   "metadata": {},
   "outputs": [],
   "source": [
    "trend.describe()"
   ]
  },
  {
   "cell_type": "code",
   "execution_count": null,
   "metadata": {},
   "outputs": [],
   "source": [
    "summary = trend.describe()\n",
    "\n",
    "var = summary.loc['mean'][summary.loc['mean'] > 0.4]\n",
    "\n",
    "print(\"Variables avec une moyenne supérieure à 0.4 :\")\n",
    "for variable, mean in var.items():\n",
    "    print(f\"{variable}: {mean}\")"
   ]
  },
  {
   "cell_type": "markdown",
   "metadata": {},
   "source": [
    "# Score"
   ]
  },
  {
   "cell_type": "markdown",
   "metadata": {},
   "source": [
    "## Score sur la Moyenne des domaines"
   ]
  },
  {
   "cell_type": "code",
   "execution_count": null,
   "metadata": {},
   "outputs": [],
   "source": [
    "prefixes = [f'X{i}' for i in range(1, 16)]\n",
    "new_df = pd.DataFrame()\n",
    "\n",
    "# Pour chaque préfixe, la somme des colonnes correspondantes est:\n",
    "for prefix in prefixes:\n",
    "    cols_to_sum = [col for col in df.columns if col.startswith(prefix)]\n",
    "    new_df[prefix] = trend[cols_to_sum].sum(axis=1)\n",
    "\n",
    "new_df"
   ]
  },
  {
   "cell_type": "code",
   "execution_count": null,
   "metadata": {},
   "outputs": [],
   "source": [
    "break"
   ]
  },
  {
   "cell_type": "code",
   "execution_count": null,
   "metadata": {},
   "outputs": [],
   "source": [
    "v1 = new_df.copy()\n",
    "# v1.to_csv('norm_numb_policy.csv', index=False)"
   ]
  },
  {
   "cell_type": "code",
   "execution_count": null,
   "metadata": {},
   "outputs": [],
   "source": [
    "new_df.describe()"
   ]
  },
  {
   "cell_type": "code",
   "execution_count": null,
   "metadata": {},
   "outputs": [],
   "source": [
    "for prefix in prefixes:\n",
    "    bad = min(new_df[prefix])\n",
    "    good = max(new_df[prefix])\n",
    "    new_df[f'{prefix}m'] = ((new_df[prefix] - bad) / (good - bad)) * (10 - 1) + 1"
   ]
  },
  {
   "cell_type": "code",
   "execution_count": null,
   "metadata": {},
   "outputs": [],
   "source": [
    "n_col = [f'{prefix}m' for prefix in prefixes]\n",
    "new_df['note'] = np.sqrt(np.mean(np.square(new_df[n_col]), axis=1))\n",
    "new_df['note'] = round(new_df['note'])\n",
    "new_df['note'] = new_df['note'].astype(int)"
   ]
  },
  {
   "cell_type": "code",
   "execution_count": null,
   "metadata": {},
   "outputs": [],
   "source": [
    "new_df"
   ]
  },
  {
   "cell_type": "code",
   "execution_count": null,
   "metadata": {},
   "outputs": [],
   "source": [
    "v2 = new_df.iloc[:, 15:31]\n",
    "v2"
   ]
  },
  {
   "cell_type": "code",
   "execution_count": null,
   "metadata": {},
   "outputs": [],
   "source": [
    "break"
   ]
  },
  {
   "cell_type": "code",
   "execution_count": null,
   "metadata": {},
   "outputs": [],
   "source": [
    "v2 = v2.iloc[:-2]\n",
    "# v2.to_csv('policy_index.csv', index=False)"
   ]
  },
  {
   "cell_type": "code",
   "execution_count": null,
   "metadata": {},
   "outputs": [],
   "source": [
    "ndf = pd.concat([trend['Trade.Agreement'], new_df['note']], axis = 1)\n",
    "ndf = ndf.iloc[:-2]\n",
    "ndf"
   ]
  },
  {
   "cell_type": "code",
   "execution_count": null,
   "metadata": {},
   "outputs": [],
   "source": [
    "import matplotlib.pyplot as plt\n",
    "\n",
    "# Créer un histogramme pour visualiser la distribution\n",
    "plt.hist(ndf['note'], bins=20, color='blue', edgecolor='black')\n",
    "\n",
    "# Ajouter des labels et un titre\n",
    "plt.xlabel('IAE')\n",
    "plt.ylabel('Effectif')\n",
    "plt.title('IAE')\n",
    "\n",
    "# Afficher le plot\n",
    "plt.show()"
   ]
  },
  {
   "cell_type": "code",
   "execution_count": null,
   "metadata": {},
   "outputs": [],
   "source": [
    "# Table de distribution de la variable standardisée et mise à l'échelle\n",
    "distribution_table = ndf['note'].value_counts().sort_index().reset_index()\n",
    "distribution_table.columns = ['Valeur', 'Fréquence']\n",
    "\n",
    "print(distribution_table)"
   ]
  },
  {
   "cell_type": "markdown",
   "metadata": {},
   "source": [
    "## Score sur Sum Nb de clauses"
   ]
  },
  {
   "cell_type": "code",
   "execution_count": null,
   "metadata": {},
   "outputs": [],
   "source": [
    "trend['Total'] = trend.iloc[:, 1:].sum(axis=1)\n",
    "trend"
   ]
  },
  {
   "cell_type": "code",
   "execution_count": null,
   "metadata": {},
   "outputs": [],
   "source": [
    "bad_valeur = min(trend['Total'])\n",
    "good_valeur = max(trend['Total'])\n",
    "\n",
    "# Appliquer la transformation Min-Max Scaling\n",
    "trend['IAE_sum'] = round(((trend['Total'] - bad_valeur) / (good_valeur - bad_valeur)) * (10 - 1) + 1)\n",
    "trend['IAE_sum'] = trend['IAE_sum'].astype(int)\n",
    "trend = trend.iloc[:-2]"
   ]
  },
  {
   "cell_type": "code",
   "execution_count": null,
   "metadata": {},
   "outputs": [],
   "source": [
    "import matplotlib.pyplot as plt\n",
    "\n",
    "# Créer un histogramme pour visualiser la distribution\n",
    "plt.hist(trend['IAE_sum'], bins=20, color='red', edgecolor='black')\n",
    "\n",
    "# Ajouter des labels et un titre\n",
    "plt.xlabel('IAE')\n",
    "plt.ylabel('Effectif')\n",
    "plt.title('IAE - Nombre total de normes')\n",
    "\n",
    "# Afficher le plot\n",
    "plt.show()"
   ]
  },
  {
   "cell_type": "code",
   "execution_count": null,
   "metadata": {},
   "outputs": [],
   "source": [
    "# Table de distribution de la variable standardisée et mise à l'échelle\n",
    "distribution_table = trend['IAE_sum'].value_counts().sort_index().reset_index()\n",
    "distribution_table.columns = ['Valeur', 'Fréquence']\n",
    "\n",
    "print(distribution_table)"
   ]
  },
  {
   "cell_type": "markdown",
   "metadata": {},
   "source": [
    "## IRT"
   ]
  },
  {
   "cell_type": "code",
   "execution_count": null,
   "metadata": {},
   "outputs": [],
   "source": [
    "T = trend.drop(trend.columns[[0, 299, 300]], axis = 1)\n",
    "T"
   ]
  },
  {
   "cell_type": "code",
   "execution_count": null,
   "metadata": {},
   "outputs": [],
   "source": [
    "new_ind1 = pd.DataFrame([1] * T.shape[1], index=T.columns).T\n",
    "T = pd.concat([T, new_ind1], ignore_index=True)\n",
    "\n",
    "new_ind0 = pd.DataFrame([0] * T.shape[1], index=T.columns).T\n",
    "T = pd.concat([T, new_ind0], ignore_index=True)\n",
    "\n",
    "T"
   ]
  },
  {
   "cell_type": "code",
   "execution_count": null,
   "metadata": {},
   "outputs": [],
   "source": [
    "break"
   ]
  },
  {
   "cell_type": "code",
   "execution_count": null,
   "metadata": {},
   "outputs": [],
   "source": [
    "from sklearn.decomposition import FactorAnalysis"
   ]
  },
  {
   "cell_type": "code",
   "execution_count": null,
   "metadata": {},
   "outputs": [],
   "source": [
    "n_factors = 1  # Number of latent factors\n",
    "fa = FactorAnalysis(n_components=n_factors)\n",
    "\n",
    "# Fit the model to the data\n",
    "fa.fit(T)\n",
    "\n",
    "# Transform the data to get the latent factors\n",
    "latent_factors = fa.transform(T)\n",
    "\n",
    "# Get the factor score\n",
    "factor_scores = fa.transform(T)"
   ]
  },
  {
   "cell_type": "code",
   "execution_count": null,
   "metadata": {},
   "outputs": [],
   "source": [
    "T['factor_score'] = factor_scores\n",
    "T"
   ]
  },
  {
   "cell_type": "code",
   "execution_count": null,
   "metadata": {},
   "outputs": [],
   "source": [
    "bad_v = min(T['factor_score'])\n",
    "good_v = max(T['factor_score'])\n",
    "\n",
    "# Appliquer la transformation Min-Max Scaling\n",
    "T['IAE_factor'] = round(((T['factor_score'] - bad_v) / (good_v - bad_v)) * (10 - 1) + 1)\n",
    "T['IAE_factor'] = T['IAE_factor'].astype(int)\n",
    "T = T.iloc[:-2]"
   ]
  },
  {
   "cell_type": "code",
   "execution_count": null,
   "metadata": {},
   "outputs": [],
   "source": [
    "import matplotlib.pyplot as plt\n",
    "\n",
    "# Créer un histogramme pour visualiser la distribution\n",
    "plt.hist(T['IAE_factor'], bins=20, color='green', edgecolor='black')\n",
    "\n",
    "# Ajouter des labels et un titre\n",
    "plt.xlabel('IAE')\n",
    "plt.ylabel('Effectif')\n",
    "plt.title('IAE - Factor analysis')\n",
    "\n",
    "# Afficher le plot\n",
    "plt.show()"
   ]
  },
  {
   "cell_type": "markdown",
   "metadata": {},
   "source": [
    "## Score Comparaison"
   ]
  },
  {
   "cell_type": "code",
   "execution_count": null,
   "metadata": {},
   "outputs": [],
   "source": [
    "# Concaténer les colonnes sélectionnées de df1 avec df2\n",
    "compare_sco = pd.concat([ndf['note'], trend['IAE_sum'], T['IAE_factor']], axis=1)\n",
    "compare_sco.rename(columns={'note':'IAE'}, inplace=True)\n",
    "compare_sco"
   ]
  },
  {
   "cell_type": "code",
   "execution_count": null,
   "metadata": {},
   "outputs": [],
   "source": [
    "break"
   ]
  },
  {
   "cell_type": "code",
   "execution_count": null,
   "metadata": {},
   "outputs": [],
   "source": [
    "# compare_sco.to_csv('compare_score.csv', index=False)"
   ]
  },
  {
   "cell_type": "code",
   "execution_count": null,
   "metadata": {},
   "outputs": [],
   "source": [
    "compare_sco.describe()"
   ]
  },
  {
   "cell_type": "markdown",
   "metadata": {},
   "source": [
    "# Data extraction"
   ]
  },
  {
   "cell_type": "markdown",
   "metadata": {},
   "source": [
    "## Data by Trade Agreemnt"
   ]
  },
  {
   "cell_type": "code",
   "execution_count": null,
   "metadata": {},
   "outputs": [],
   "source": [
    "df_slice = df.iloc[:, 3:21]\n",
    "df_scores = pd.concat([df['Trade.Agreement'], df_slice, trend['Total'], ndf['note']], axis=1)\n",
    "df_scores.rename(columns={'Total': 'Nombre de normes'}, inplace=True)\n",
    "df_scores.rename(columns={'note': 'IAE'}, inplace=True)\n",
    "df_scores"
   ]
  },
  {
   "cell_type": "code",
   "execution_count": null,
   "metadata": {},
   "outputs": [],
   "source": [
    "break"
   ]
  },
  {
   "cell_type": "code",
   "execution_count": null,
   "metadata": {},
   "outputs": [],
   "source": [
    "dx = pd.read_csv('infos_accords.csv')\n",
    "dx = dx.drop(columns=['depth_index', 'mar_typedepth'])\n",
    "df_scores = pd.merge(df_scores, dx, on = ['Trade.Agreement'], how = 'left')\n",
    "df_scores"
   ]
  },
  {
   "cell_type": "code",
   "execution_count": null,
   "metadata": {},
   "outputs": [],
   "source": [
    "# df_scores.to_csv(\"df_score.csv\", index=False)\n",
    "# print(\"Le fichier csv a été créé avec succès.\")"
   ]
  },
  {
   "cell_type": "markdown",
   "metadata": {},
   "source": [
    "## Data by country"
   ]
  },
  {
   "cell_type": "code",
   "execution_count": null,
   "metadata": {},
   "outputs": [],
   "source": [
    "data_pays = pd.read_csv('trenddyadic2022.csv', header=0, sep=';', encoding='latin-1')\n",
    "data_pays = data_pays.drop(data_pays.columns[24:322], axis = 1)\n",
    "data_pays"
   ]
  },
  {
   "cell_type": "code",
   "execution_count": null,
   "metadata": {},
   "outputs": [],
   "source": [
    "data_pays = pd.merge(data_pays, df_scores[['Trade.Agreement', 'Nombre de normes', 'IAE']], on='Trade.Agreement', how='left')\n",
    "data_pays"
   ]
  },
  {
   "cell_type": "code",
   "execution_count": null,
   "metadata": {},
   "outputs": [],
   "source": [
    "df1 = data_pays.drop(columns=['country2'])\n",
    "df2 = data_pays.drop(columns=['country1'])\n"
   ]
  },
  {
   "cell_type": "code",
   "execution_count": null,
   "metadata": {},
   "outputs": [],
   "source": [
    "df1.rename(columns={'country1': 'country'}, inplace=True)\n",
    "df2.rename(columns={'country2': 'country'}, inplace=True)\n",
    "data_pays = pd.concat([df1, df2], ignore_index=True)"
   ]
  },
  {
   "cell_type": "code",
   "execution_count": null,
   "metadata": {},
   "outputs": [],
   "source": [
    "data_pays = data_pays.drop_duplicates(subset=['Trade.Agreement', 'country'])\n",
    "data_pays"
   ]
  },
  {
   "cell_type": "code",
   "execution_count": null,
   "metadata": {},
   "outputs": [],
   "source": [
    "break"
   ]
  },
  {
   "cell_type": "code",
   "execution_count": null,
   "metadata": {},
   "outputs": [],
   "source": [
    "# data_pays.to_csv('data_accord_pays.csv', index=False)\n",
    "# print(\"Le fichier csv a été créé avec succès.\")"
   ]
  },
  {
   "cell_type": "code",
   "execution_count": null,
   "metadata": {},
   "outputs": [],
   "source": [
    "country = data_pays.copy()\n",
    "country"
   ]
  },
  {
   "cell_type": "code",
   "execution_count": null,
   "metadata": {},
   "outputs": [],
   "source": [
    "country = country.drop(country.columns[0], axis = 1)\n",
    "country = country.drop(country.columns[1:15], axis = 1)\n",
    "country = country.drop(country.columns[2:8], axis = 1)\n",
    "country"
   ]
  },
  {
   "cell_type": "code",
   "execution_count": null,
   "metadata": {},
   "outputs": [],
   "source": [
    "break"
   ]
  },
  {
   "cell_type": "code",
   "execution_count": null,
   "metadata": {},
   "outputs": [],
   "source": [
    "# country.to_excel('country_trend.xlsx', sheet_name = 'country score', index = False)\n",
    "# print('Well successed !')"
   ]
  },
  {
   "cell_type": "code",
   "execution_count": null,
   "metadata": {},
   "outputs": [],
   "source": [
    "break"
   ]
  },
  {
   "cell_type": "markdown",
   "metadata": {},
   "source": [
    "**!!! Régler le problème des noms de pays avant de continuer en utlisant *'res_pays problems.xlsx'*, pour corriger dans *'country_trend.xlsx'* et en appelant la correction 'C'**"
   ]
  },
  {
   "cell_type": "code",
   "execution_count": null,
   "metadata": {},
   "outputs": [],
   "source": [
    "country = pd.read_excel('country_trend.xlsx', sheet_name='country score')\n",
    "country"
   ]
  },
  {
   "cell_type": "code",
   "execution_count": null,
   "metadata": {},
   "outputs": [],
   "source": [
    "country['country'] = country['C']\n",
    "country = country.drop(columns='C', axis = 1)\n",
    "country.rename(columns={'Note':'IAE'}, inplace=True)"
   ]
  },
  {
   "cell_type": "code",
   "execution_count": null,
   "metadata": {},
   "outputs": [],
   "source": [
    "country"
   ]
  },
  {
   "cell_type": "code",
   "execution_count": null,
   "metadata": {},
   "outputs": [],
   "source": [
    "moy2 = country.groupby('country')['IAE'].mean().reset_index()\n",
    "moy2 = moy2.rename(columns={'IAE': 'IAE moyen'})\n",
    "moy2"
   ]
  },
  {
   "cell_type": "code",
   "execution_count": null,
   "metadata": {},
   "outputs": [],
   "source": [
    "som = country.groupby('country')['Nombre de normes'].sum().reset_index()\n",
    "som = som.rename(columns={'Nombre de normes': 'Nombre de normes signées'})\n",
    "som['Nombre de normes signées'] = som['Nombre de normes signées'].astype(int)\n",
    "som"
   ]
  },
  {
   "cell_type": "code",
   "execution_count": null,
   "metadata": {},
   "outputs": [],
   "source": [
    "max = country.groupby('country')['Year'].max().reset_index()\n",
    "max = max.rename(columns={'Year': 'YearLastPTASigned'})\n",
    "max"
   ]
  },
  {
   "cell_type": "code",
   "execution_count": null,
   "metadata": {},
   "outputs": [],
   "source": [
    "min = country.groupby('country')['Year'].min().reset_index()\n",
    "min = min.rename(columns={'Year': 'YearFirstPTASigned'})\n",
    "min"
   ]
  },
  {
   "cell_type": "code",
   "execution_count": null,
   "metadata": {},
   "outputs": [],
   "source": [
    "country_trend = pd.concat([min, max['YearLastPTASigned'], som['Nombre de normes signées'], moy2['IAE moyen']], axis=1)\n",
    "country_trend"
   ]
  },
  {
   "cell_type": "code",
   "execution_count": null,
   "metadata": {},
   "outputs": [],
   "source": [
    "country_trend.describe()"
   ]
  },
  {
   "cell_type": "code",
   "execution_count": null,
   "metadata": {},
   "outputs": [],
   "source": [
    "break"
   ]
  },
  {
   "cell_type": "code",
   "execution_count": null,
   "metadata": {},
   "outputs": [],
   "source": [
    "# country_trend.to_csv('data_pays.csv', index = False)\n",
    "# print('Well done !')"
   ]
  },
  {
   "cell_type": "markdown",
   "metadata": {},
   "source": [
    "## Ajout de variables macro"
   ]
  },
  {
   "cell_type": "code",
   "execution_count": null,
   "metadata": {},
   "outputs": [],
   "source": [
    "df_scores.drop(columns=['regioncon'], inplace=True)\n",
    "df_scores"
   ]
  },
  {
   "cell_type": "markdown",
   "metadata": {},
   "source": [
    "#### left jointure"
   ]
  },
  {
   "cell_type": "code",
   "execution_count": null,
   "metadata": {},
   "outputs": [],
   "source": [
    "break"
   ]
  },
  {
   "cell_type": "markdown",
   "metadata": {},
   "source": [
    "**!!! On corrige d'abord les noms des pays dans la base dyadic avant de les importer**"
   ]
  },
  {
   "cell_type": "code",
   "execution_count": null,
   "metadata": {},
   "outputs": [],
   "source": [
    "data = pd.read_excel('dyadic_trend.xlsx', sheet_name='trenddyadic2022')\n",
    "data.head()"
   ]
  },
  {
   "cell_type": "code",
   "execution_count": null,
   "metadata": {},
   "outputs": [],
   "source": [
    "data['country1'] = data['C1']\n",
    "data['country2'] = data['C2']\n",
    "\n",
    "data = data.drop(columns = ['C1', 'C2'])\n",
    "data"
   ]
  },
  {
   "cell_type": "code",
   "execution_count": null,
   "metadata": {},
   "outputs": [],
   "source": [
    "df1 = data.drop(columns=['country2'])\n",
    "df2 = data.drop(columns=['country1'])"
   ]
  },
  {
   "cell_type": "code",
   "execution_count": null,
   "metadata": {},
   "outputs": [],
   "source": [
    "df1.rename(columns={'country1': 'country'}, inplace=True)\n",
    "df2.rename(columns={'country2': 'country'}, inplace=True)\n",
    "dat = pd.concat([df1, df2], ignore_index=True)"
   ]
  },
  {
   "cell_type": "code",
   "execution_count": null,
   "metadata": {},
   "outputs": [],
   "source": [
    "dato = dat.drop_duplicates(subset=['Trade.Agreement', 'country'])\n",
    "dato"
   ]
  },
  {
   "cell_type": "markdown",
   "metadata": {},
   "source": [
    "#### all data"
   ]
  },
  {
   "cell_type": "code",
   "execution_count": null,
   "metadata": {},
   "outputs": [],
   "source": [
    "POPTOT = pd.read_excel('all_DEP.xlsx', sheet_name='POPTOT')\n",
    "EPI22 = pd.read_excel('all_DEP.xlsx', sheet_name='EPI2022')\n",
    "EPI20 = pd.read_excel('all_DEP.xlsx', sheet_name='EPI2020')\n",
    "CO2 = pd.read_excel('all_DEP.xlsx', sheet_name='CO2')\n",
    "\n",
    "PIB = pd.read_excel('all_DEP.xlsx', sheet_name='GDP-PPP')\n",
    "PCAP = pd.read_excel('all_DEP.xlsx', sheet_name='GDP-PPP-CAP')\n",
    "\n",
    "EXP = pd.read_excel('all_DEP.xlsx', sheet_name='EXP')\n",
    "MER = pd.read_excel('all_DEP.xlsx', sheet_name='MERCHEXP')\n",
    "\n",
    "DEM22 = pd.read_excel('all_DEP.xlsx', sheet_name='DEM')\n",
    "IDE = pd.read_excel('all_DEP.xlsx', sheet_name='INVEST')\n",
    "VCC = pd.read_excel('all_DEP.xlsx', sheet_name='VCC')"
   ]
  },
  {
   "cell_type": "code",
   "execution_count": null,
   "metadata": {},
   "outputs": [],
   "source": [
    "VCC"
   ]
  },
  {
   "cell_type": "code",
   "execution_count": null,
   "metadata": {},
   "outputs": [],
   "source": [
    "POPTOT = POPTOT.drop(POPTOT.columns[[1, 2, 3]], axis = 1)\n",
    "EPI20 = EPI20.drop(EPI20.columns[[0, 1, 2]], axis = 1)\n",
    "CO2 = CO2.drop(CO2.columns[[0, 1]], axis = 1)\n",
    "\n",
    "PIB = PIB.drop(PIB.columns[[0, 2]], axis = 1)\n",
    "PCAP = PCAP.drop(PCAP.columns[[0, 2]], axis = 1)\n",
    "\n",
    "EXP = EXP.drop(columns=['Indicator Name'])\n",
    "MER = MER.drop(MER.columns[[0, 2, 3]], axis = 1)\n",
    "IDE = IDE.drop(IDE.columns[[0, 1]], axis = 1)\n",
    "VCC = VCC.drop(columns=['Country'])"
   ]
  },
  {
   "cell_type": "code",
   "execution_count": null,
   "metadata": {},
   "outputs": [],
   "source": [
    "EPI20"
   ]
  },
  {
   "cell_type": "code",
   "execution_count": null,
   "metadata": {},
   "outputs": [],
   "source": [
    "POPTOT = POPTOT.melt(id_vars='C', var_name='Year', value_name='pop')\n",
    "PIB = PIB.melt(id_vars='C', var_name='Year', value_name='gdp')\n",
    "PCAP = PCAP.melt(id_vars='C', var_name='Year', value_name='gdp_pcap')\n",
    "EXP = EXP.melt(id_vars='C', var_name='Year', value_name='export')\n",
    "MER = MER.melt(id_vars='C', var_name='Year', value_name='merch')"
   ]
  },
  {
   "cell_type": "code",
   "execution_count": null,
   "metadata": {},
   "outputs": [],
   "source": [
    "PCAP"
   ]
  },
  {
   "cell_type": "code",
   "execution_count": null,
   "metadata": {},
   "outputs": [],
   "source": [
    "EXP.dtypes"
   ]
  },
  {
   "cell_type": "code",
   "execution_count": null,
   "metadata": {},
   "outputs": [],
   "source": [
    "list = [POPTOT, PIB, PCAP, EXP, MER, CO2, IDE]\n",
    "for d in list:\n",
    "    d['Year'] = d['Year'].astype(int)"
   ]
  },
  {
   "cell_type": "code",
   "execution_count": null,
   "metadata": {},
   "outputs": [],
   "source": [
    "# Fusion des DataFrames\n",
    "result = pd.merge(POPTOT, PIB, on=['C', 'Year'], how='left')\n",
    "result = pd.merge(result, PCAP, on=['C', 'Year'], how='left')\n",
    "result = pd.merge(result, EXP, on=['C', 'Year'], how='left')\n",
    "result = pd.merge(result, MER, on=['C', 'Year'], how='left')\n",
    "result = pd.merge(result, CO2, on=['C', 'Year'], how='left')\n",
    "result = pd.merge(result, IDE, on=['C', 'Year'], how ='left')"
   ]
  },
  {
   "cell_type": "code",
   "execution_count": null,
   "metadata": {},
   "outputs": [],
   "source": [
    "result = result.rename(columns = {'C':'country'})\n",
    "result"
   ]
  },
  {
   "cell_type": "code",
   "execution_count": null,
   "metadata": {},
   "outputs": [],
   "source": [
    "break"
   ]
  },
  {
   "cell_type": "code",
   "execution_count": null,
   "metadata": {},
   "outputs": [],
   "source": [
    "# result.to_csv('all_DEP_consolidate.csv', index = False)\n",
    "# print('well !')"
   ]
  },
  {
   "cell_type": "code",
   "execution_count": null,
   "metadata": {},
   "outputs": [],
   "source": [
    "result.isna().sum()"
   ]
  },
  {
   "cell_type": "code",
   "execution_count": null,
   "metadata": {},
   "outputs": [],
   "source": [
    "result.dtypes"
   ]
  },
  {
   "cell_type": "code",
   "execution_count": null,
   "metadata": {},
   "outputs": [],
   "source": [
    "dato['Year'] = dato['Year'].astype(int)"
   ]
  },
  {
   "cell_type": "code",
   "execution_count": null,
   "metadata": {},
   "outputs": [],
   "source": [
    "global_data = pd.merge(dato, result, on=['country', 'Year'], how='left')\n",
    "global_data"
   ]
  },
  {
   "cell_type": "code",
   "execution_count": null,
   "metadata": {},
   "outputs": [],
   "source": [
    "global_data = global_data.drop_duplicates(subset=['Trade.Agreement', 'country'])\n",
    "global_data"
   ]
  },
  {
   "cell_type": "code",
   "execution_count": null,
   "metadata": {},
   "outputs": [],
   "source": [
    "global_data = global_data.rename(columns = {'Annual CO2 emissions (t)': 'co2e'})\n",
    "global_data = global_data.rename(columns = {'Foreign direct investment, net inflows (% of GDP)': 'ide'})"
   ]
  },
  {
   "cell_type": "code",
   "execution_count": null,
   "metadata": {},
   "outputs": [],
   "source": [
    "global_data = pd.merge(global_data, EPI20, left_on=['country'], right_on=['C'], how='left')\n",
    "global_data.drop(columns=['C'], inplace=True)\n",
    "global_data = pd.merge(global_data, DEM22, left_on=['country'], right_on=['C'], how='left')\n",
    "global_data.drop(columns=['C'], inplace=True)\n",
    "global_data = pd.merge(global_data, VCC, left_on=['country'], right_on=['C'], how='left')\n",
    "global_data.drop(columns=['C'], inplace=True)\n",
    "global_data = global_data.rename(columns = {'Democracy score': 'democ'})\n",
    "global_data = global_data.rename(columns = {'Negotiations.of.environmental.agreements': 'nea'})\n",
    "global_data = global_data.rename(columns = {'PVCCI': 'vcc'})\n",
    "global_data"
   ]
  },
  {
   "cell_type": "markdown",
   "metadata": {},
   "source": [
    "##### aggregation"
   ]
  },
  {
   "cell_type": "code",
   "execution_count": null,
   "metadata": {},
   "outputs": [],
   "source": [
    "m1 = global_data.groupby('Trade.Agreement')['Dyads'].max().reset_index()\n",
    "m2 = global_data.groupby('Trade.Agreement')['NorthSouth'].max().reset_index()\n",
    "m3 = global_data.groupby('Trade.Agreement')['NumberMS'].max().reset_index()\n",
    "m4 = global_data.groupby('Trade.Agreement')['Sectoral'].max().reset_index()\n",
    "m5 = global_data.groupby('Trade.Agreement')['TypeDepth'].max().reset_index()\n",
    "m6 = global_data.groupby('Trade.Agreement')['TypeMemb'].max().reset_index()\n",
    "m7 = global_data.groupby('Trade.Agreement')['WTOListed'].max().reset_index()\n",
    "m8 = global_data.groupby('Trade.Agreement')['DateYMD'].max().reset_index()\n",
    "m9 = global_data.groupby('Trade.Agreement')['Year'].max().reset_index()\n",
    "m10 = global_data.groupby('Trade.Agreement')['reg_africa'].max().reset_index()\n",
    "m11 = global_data.groupby('Trade.Agreement')['reg_americas'].max().reset_index()\n",
    "m12 = global_data.groupby('Trade.Agreement')['reg_asia'].max().reset_index()\n",
    "m13 = global_data.groupby('Trade.Agreement')['reg_europe'].max().reset_index()\n",
    "m14 = global_data.groupby('Trade.Agreement')['reg_intercontinental'].max().reset_index()\n",
    "m15 = global_data.groupby('Trade.Agreement')['reg_oceania'].max().reset_index()\n",
    "m20 = global_data.groupby('Trade.Agreement')['nea'].max().reset_index()"
   ]
  },
  {
   "cell_type": "code",
   "execution_count": null,
   "metadata": {},
   "outputs": [],
   "source": [
    "import numpy as np\n",
    "def custom_agg1(values):\n",
    "    if values.isnull().any():  # Vérifie si l'une des valeurs agrégées est NA\n",
    "        return np.nan  # Si c'est le cas, retourne NA\n",
    "    else:\n",
    "        return values.mean()  # Sinon, retourne la moyenne des valeurs\n",
    "\n",
    "def custom_agg2(values):\n",
    "    if values.isnull().any():  # Vérifie si l'une des valeurs agrégées est NA\n",
    "        return np.nan  # Si c'est le cas, retourne NA\n",
    "    else:\n",
    "        return values.sum()  # Sinon, retourne la moyenne des valeurs\n",
    "\n",
    "def custom_agg3(values):\n",
    "    if values.isnull().any():  # Vérifie si l'une des valeurs agrégées est NA\n",
    "        return np.nan  # Si c'est le cas, retourne NA\n",
    "    else:\n",
    "        return values.max()  # Sinon, retourne le max des valeurs\n",
    "\n",
    "m21 = global_data.groupby('Trade.Agreement')['pop'].agg(custom_agg1).reset_index()\n",
    "m28 = global_data.groupby('Trade.Agreement')['epi2020'].agg(custom_agg1).reset_index()\n",
    "m23 = global_data.groupby('Trade.Agreement')['co2e'].agg(custom_agg2).reset_index()\n",
    "\n",
    "m22 = global_data.groupby('Trade.Agreement')['ide'].agg(custom_agg3).reset_index()\n",
    "m17 = global_data.groupby('Trade.Agreement')['democ'].agg(custom_agg3).reset_index()\n",
    "m18 = global_data.groupby('Trade.Agreement')['vcc'].agg(custom_agg1).reset_index()\n",
    "\n",
    "m24 = global_data.groupby('Trade.Agreement')['gdp'].agg(custom_agg1).reset_index()\n",
    "m25 = global_data.groupby('Trade.Agreement')['gdp_pcap'].agg(custom_agg1).reset_index()\n",
    "\n",
    "m26 = global_data.groupby('Trade.Agreement')['export'].agg(custom_agg1).reset_index()\n",
    "m27 = global_data.groupby('Trade.Agreement')['merch'].agg(custom_agg1).reset_index()"
   ]
  },
  {
   "cell_type": "code",
   "execution_count": null,
   "metadata": {},
   "outputs": [],
   "source": [
    "global_data_df = pd.concat([m1, m2['NorthSouth'], m3['NumberMS'], m4['Sectoral'], m5['TypeDepth'], m6['TypeMemb'], m7['WTOListed'],\n",
    "                       m8['DateYMD'], m9['Year'], m20['nea'], m21['pop'], m24['gdp'], m25['gdp_pcap'], m26['export'], m27['merch'],\n",
    "                       m23['co2e'], m28['epi2020'], m22['ide'], m17['democ'], m18['vcc']], axis=1)\n",
    "global_data_df"
   ]
  },
  {
   "cell_type": "code",
   "execution_count": null,
   "metadata": {},
   "outputs": [],
   "source": [
    "cut = pd.to_datetime('1990-01-01')\n",
    "global_fil = global_data_df[global_data_df['DateYMD'] >= cut]\n",
    "global_fil"
   ]
  },
  {
   "cell_type": "code",
   "execution_count": null,
   "metadata": {},
   "outputs": [],
   "source": [
    "coup = df_scores.drop(df_scores.columns[1:19], axis = 1)\n",
    "an_trend_90s = pd.merge(global_fil, coup, on = ['Trade.Agreement'], how = 'left')\n",
    "an_trend_90s"
   ]
  },
  {
   "cell_type": "code",
   "execution_count": null,
   "metadata": {},
   "outputs": [],
   "source": [
    "break"
   ]
  },
  {
   "cell_type": "code",
   "execution_count": null,
   "metadata": {},
   "outputs": [],
   "source": [
    "# an_trend_90s.to_csv('an_trend_eco90s.csv', index = False)"
   ]
  },
  {
   "cell_type": "code",
   "execution_count": null,
   "metadata": {},
   "outputs": [],
   "source": [
    "an_trend_90s.isna().sum()"
   ]
  },
  {
   "cell_type": "markdown",
   "metadata": {},
   "source": [
    "**Enfin j'ai finis avec ces données :/**"
   ]
  }
 ],
 "metadata": {
  "kernelspec": {
   "display_name": "Python 3",
   "language": "python",
   "name": "python3"
  },
  "language_info": {
   "codemirror_mode": {
    "name": "ipython",
    "version": 3
   },
   "file_extension": ".py",
   "mimetype": "text/x-python",
   "name": "python",
   "nbconvert_exporter": "python",
   "pygments_lexer": "ipython3",
   "version": "3.11.9"
  }
 },
 "nbformat": 4,
 "nbformat_minor": 2
}
